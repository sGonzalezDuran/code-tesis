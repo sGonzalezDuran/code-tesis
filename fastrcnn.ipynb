{
 "cells": [
  {
   "cell_type": "code",
   "execution_count": 4,
   "metadata": {},
   "outputs": [],
   "source": [
    "from torchvision.io.image import read_image\n",
    "from torchvision.models.detection import fasterrcnn_resnet50_fpn_v2, FasterRCNN_ResNet50_FPN_V2_Weights\n",
    "from torchvision.utils import draw_bounding_boxes\n",
    "from torchvision.transforms.functional import to_pil_image\n",
    "\n",
    "import os\n",
    "perfil = 'raquelcanas'\n",
    "# Ruta de la carpeta que contiene las imágenes y subcarpetas\n",
    "ruta_carpeta = f'images\\{perfil}'\n",
    "output_dir = f'bbox'\n",
    "\n",
    "# Step 1: Initialize model with the best available weights\n",
    "weights = FasterRCNN_ResNet50_FPN_V2_Weights.DEFAULT\n",
    "model = fasterrcnn_resnet50_fpn_v2(weights=weights, box_score_thresh=0.9)\n",
    "model.eval()\n",
    "\n",
    "# Step 2: Initialize the inference transforms\n",
    "preprocess = weights.transforms()\n",
    "\n",
    "# Iterar sobre los elementos de la carpeta\n",
    "for raiz, carpetas, archivos in os.walk(ruta_carpeta):\n",
    "    for archivo in archivos:\n",
    "        # Filtrar solo los archivos de imagen (puedes agregar más extensiones según tus necesidades)\n",
    "        extensiones_permitidas = [\".jpg\", \".jpeg\", \".png\", \".gif\"]\n",
    "        if any(archivo.endswith(ext) for ext in extensiones_permitidas):\n",
    "            # Imprimir la ruta completa del archivo de imagen\n",
    "            ruta_completa = os.path.join(raiz, archivo)\n",
    "            img = read_image(ruta_completa)\n",
    "           # print(f\"Imagen encontrada: {ruta_completa}\")\n",
    "            # Step 3: Apply inference preprocessing transforms\n",
    "            batch = [preprocess(img)]\n",
    "\n",
    "            # Step 4: Use the model and visualize the prediction\n",
    "\n",
    "            prediction = model(batch)[0]\n",
    "            labels = [weights.meta[\"categories\"][i] for i in prediction[\"labels\"]]\n",
    "\n",
    "            # Filter predictions to include only \"person\" labels\n",
    "            person_indices = [i for i, label in enumerate(labels) if label == \"person\"]\n",
    "            filtered_boxes = prediction[\"boxes\"][person_indices]\n",
    "            filtered_labels = [labels[i] for i in person_indices]\n",
    "\n",
    "            # Draw bounding boxes only for persons\n",
    "            box = draw_bounding_boxes(img, boxes=filtered_boxes,\n",
    "                                    labels=filtered_labels,\n",
    "                                    colors=\"red\",\n",
    "                                    width=4, font_size=30)\n",
    "            im = to_pil_image(box.detach())\n",
    "            os.makedirs(f'{output_dir}{raiz}', exist_ok=True)\n",
    "            im.save(f'{output_dir}{ruta_completa}')"
   ]
  }
 ],
 "metadata": {
  "kernelspec": {
   "display_name": "Python 3",
   "language": "python",
   "name": "python3"
  },
  "language_info": {
   "codemirror_mode": {
    "name": "ipython",
    "version": 3
   },
   "file_extension": ".py",
   "mimetype": "text/x-python",
   "name": "python",
   "nbconvert_exporter": "python",
   "pygments_lexer": "ipython3",
   "version": "3.11.6"
  }
 },
 "nbformat": 4,
 "nbformat_minor": 2
}
