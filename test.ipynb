{
 "cells": [
  {
   "cell_type": "code",
   "execution_count": 4,
   "metadata": {},
   "outputs": [
    {
     "name": "stdout",
     "output_type": "stream",
     "text": [
      "   id columna_a\n",
      "1   2         B\n",
      "3   4         D\n"
     ]
    }
   ],
   "source": [
    "import pandas as pd\n",
    "\n",
    "df1 = pd.DataFrame({'id': [1, 2, 3, 4, 5],\n",
    "                    'columna_a': ['A', 'B', 'C', 'D', 'E']})\n",
    "\n",
    "df2 = pd.DataFrame({'id': [2, 4],\n",
    "                    'columna_b': ['X', 'Y']})\n",
    "\n",
    "df_resultado = df1[df1['id'].isin(df2['id'])]\n",
    "\n",
    "print(df_resultado)\n"
   ]
  }
 ],
 "metadata": {
  "kernelspec": {
   "display_name": "Python 3",
   "language": "python",
   "name": "python3"
  },
  "language_info": {
   "codemirror_mode": {
    "name": "ipython",
    "version": 3
   },
   "file_extension": ".py",
   "mimetype": "text/x-python",
   "name": "python",
   "nbconvert_exporter": "python",
   "pygments_lexer": "ipython3",
   "version": "3.11.6"
  }
 },
 "nbformat": 4,
 "nbformat_minor": 2
}
